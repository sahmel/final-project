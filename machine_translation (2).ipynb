{
 "cells": [
  {
   "cell_type": "markdown",
   "metadata": {
    "collapsed": true
   },
   "source": [
    "# Artificial Intelligence Nanodegree\n",
    "## Machine Translation Project\n",
    "\n",
    "\n",
    "## Introduction\n",
    "In this notebook, you find a number of deep neural networks that function as part of an end-to-end machine translation pipeline. The pipelines will accept English text as input and return the French translation.\n"
   ]
  },
  {
   "cell_type": "code",
   "execution_count": 1,
   "metadata": {},
   "outputs": [],
   "source": [
    "%load_ext autoreload\n",
    "%aimport helper, tests\n",
    "%autoreload 1"
   ]
  },
  {
   "cell_type": "code",
   "execution_count": 2,
   "metadata": {},
   "outputs": [
    {
     "name": "stderr",
     "output_type": "stream",
     "text": [
      "Using TensorFlow backend.\n"
     ]
    }
   ],
   "source": [
    "import collections\n",
    "\n",
    "import helper\n",
    "import numpy as np\n",
    "import project_tests as tests\n",
    "\n",
    "from sklearn.model_selection import train_test_split\n",
    "\n",
    "from keras.preprocessing.text import Tokenizer\n",
    "from keras.preprocessing.sequence import pad_sequences\n",
    "from keras.models import Model, Sequential\n",
    "from keras.layers import LSTM, GRU, Input, Dense, TimeDistributed, Activation, RepeatVector, Bidirectional, Embedding, Flatten\n",
    "from keras.layers.embeddings import Embedding\n",
    "from keras.optimizers import Adam, rmsprop\n",
    "from keras.losses import sparse_categorical_crossentropy"
   ]
  },
  {
   "cell_type": "markdown",
   "metadata": {},
   "source": [
    "### Verify access to the GPU\n",
    "The following test applies only if you expect to be using a GPU. Run the next cell, and verify that the device_type is \"GPU\"."
   ]
  },
  {
   "cell_type": "code",
   "execution_count": 3,
   "metadata": {},
   "outputs": [
    {
     "name": "stdout",
     "output_type": "stream",
     "text": [
      "[name: \"/cpu:0\"\n",
      "device_type: \"CPU\"\n",
      "memory_limit: 268435456\n",
      "locality {\n",
      "}\n",
      "incarnation: 1860777044165494850\n",
      ", name: \"/gpu:0\"\n",
      "device_type: \"GPU\"\n",
      "memory_limit: 357433344\n",
      "locality {\n",
      "  bus_id: 1\n",
      "}\n",
      "incarnation: 3563910225959155661\n",
      "physical_device_desc: \"device: 0, name: Tesla K80, pci bus id: 0000:00:04.0\"\n",
      "]\n"
     ]
    }
   ],
   "source": [
    "from tensorflow.python.client import device_lib\n",
    "print(device_lib.list_local_devices())"
   ]
  },
  {
   "cell_type": "markdown",
   "metadata": {},
   "source": [
    "## Dataset\n",
    "I'll begin by investigating the dataset that will be used to train and evaluate the pipeline.  The most common datasets used for machine translation are from [WMT](http://www.statmt.org/).  However, that will take a long time to train a neural network on.  I'll be using a dataset we created for this project that contains a small vocabulary.  \n",
    "### Load Data\n",
    "The data is located in `data/small_vocab_en` and `data/small_vocab_fr`. The `small_vocab_en` file contains English sentences with their French translations in the `small_vocab_fr` file. Load the English and French data from these files from running the cell below."
   ]
  },
  {
   "cell_type": "code",
   "execution_count": 4,
   "metadata": {},
   "outputs": [
    {
     "name": "stdout",
     "output_type": "stream",
     "text": [
      "Dataset Loaded\n"
     ]
    }
   ],
   "source": [
    "# Load English data\n",
    "english_sentences = helper.load_data('data/small_vocab_en')\n",
    "# Load French data\n",
    "french_sentences = helper.load_data('data/small_vocab_fr')\n",
    "\n",
    "print('Dataset Loaded')"
   ]
  },
  {
   "cell_type": "markdown",
   "metadata": {},
   "source": [
    "### Files\n",
    "Each line in `small_vocab_en` contains an English sentence with the respective translation in each line of `small_vocab_fr`.  View the first two lines from each file."
   ]
  },
  {
   "cell_type": "code",
   "execution_count": 5,
   "metadata": {},
   "outputs": [
    {
     "name": "stdout",
     "output_type": "stream",
     "text": [
      "small_vocab_en Line 1:  new jersey is sometimes quiet during autumn , and it is snowy in april .\n",
      "small_vocab_fr Line 1:  new jersey est parfois calme pendant l' automne , et il est neigeux en avril .\n",
      "small_vocab_en Line 2:  the united states is usually chilly during july , and it is usually freezing in november .\n",
      "small_vocab_fr Line 2:  les états-unis est généralement froid en juillet , et il gèle habituellement en novembre .\n"
     ]
    }
   ],
   "source": [
    "for sample_i in range(2):\n",
    "    print('small_vocab_en Line {}:  {}'.format(sample_i + 1, english_sentences[sample_i]))\n",
    "    print('small_vocab_fr Line {}:  {}'.format(sample_i + 1, french_sentences[sample_i]))"
   ]
  },
  {
   "cell_type": "markdown",
   "metadata": {},
   "source": [
    "From looking at the sentences, you can see they have been preprocessed already.  The puncuations have been delimited using spaces. All the text have been converted to lowercase.  This should save you some time, but the text requires more preprocessing.\n",
    "### Vocabulary\n",
    "The complexity of the problem is determined by the complexity of the vocabulary.  A more complex vocabulary is a more complex problem.  Let's look at the complexity of the dataset we'll be working with."
   ]
  },
  {
   "cell_type": "code",
   "execution_count": 6,
   "metadata": {},
   "outputs": [
    {
     "name": "stdout",
     "output_type": "stream",
     "text": [
      "1823250 English words.\n",
      "227 unique English words.\n",
      "10 Most common words in the English dataset:\n",
      "\"is\" \",\" \".\" \"in\" \"it\" \"during\" \"the\" \"but\" \"and\" \"sometimes\"\n",
      "\n",
      "1961295 French words.\n",
      "355 unique French words.\n",
      "10 Most common words in the French dataset:\n",
      "\"est\" \".\" \",\" \"en\" \"il\" \"les\" \"mais\" \"et\" \"la\" \"parfois\"\n"
     ]
    }
   ],
   "source": [
    "english_words_counter = collections.Counter([word for sentence in english_sentences for word in sentence.split()])\n",
    "french_words_counter = collections.Counter([word for sentence in french_sentences for word in sentence.split()])\n",
    "\n",
    "print('{} English words.'.format(len([word for sentence in english_sentences for word in sentence.split()])))\n",
    "print('{} unique English words.'.format(len(english_words_counter)))\n",
    "print('10 Most common words in the English dataset:')\n",
    "print('\"' + '\" \"'.join(list(zip(*english_words_counter.most_common(10)))[0]) + '\"')\n",
    "print()\n",
    "print('{} French words.'.format(len([word for sentence in french_sentences for word in sentence.split()])))\n",
    "print('{} unique French words.'.format(len(french_words_counter)))\n",
    "print('10 Most common words in the French dataset:')\n",
    "print('\"' + '\" \"'.join(list(zip(*french_words_counter.most_common(10)))[0]) + '\"')"
   ]
  },
  {
   "cell_type": "markdown",
   "metadata": {},
   "source": [
    "For comparison, _Alice's Adventures in Wonderland_ contains 2,766 unique words of a total of 15,500 words.\n",
    "## Preprocess\n",
    "For this project, you won't use text data as input to your model. Instead, you'll convert the text into sequences of integers using the following preprocess methods:\n",
    "1. Tokenize the words into ids\n",
    "2. Add padding to make all the sequences the same length.\n",
    "\n",
    "Time to start preprocessing the data...\n",
    "### Tokenize\n",
    "For a neural network to predict on text data, it first has to be turned into data it can understand. Text data like \"dog\" is a sequence of ASCII character encodings.  Since a neural network is a series of multiplication and addition operations, the input data needs to be number(s).\n",
    "\n",
    "We can turn each character into a number or each word into a number.  These are called character and word ids, respectively.  Character ids are used for character level models that generate text predictions for each character.  A word level model uses word ids that generate text predictions for each word.  Word level models tend to learn better, since they are lower in complexity, so we'll use those.\n",
    "\n",
    "Turn each sentence into a sequence of words ids using Keras's [`Tokenizer`](https://keras.io/preprocessing/text/#tokenizer) function. Use this function to tokenize `english_sentences` and `french_sentences` in the cell below.\n",
    "\n",
    "Running the cell will run `tokenize` on sample data and show output for debugging."
   ]
  },
  {
   "cell_type": "code",
   "execution_count": 7,
   "metadata": {},
   "outputs": [
    {
     "name": "stdout",
     "output_type": "stream",
     "text": [
      "{'the': 1, 'quick': 2, 'a': 3, 'brown': 4, 'fox': 5, 'jumps': 6, 'over': 7, 'lazy': 8, 'dog': 9, 'by': 10, 'jove': 11, 'my': 12, 'study': 13, 'of': 14, 'lexicography': 15, 'won': 16, 'prize': 17, 'this': 18, 'is': 19, 'short': 20, 'sentence': 21}\n",
      "\n",
      "Sequence 1 in x\n",
      "  Input:  The quick brown fox jumps over the lazy dog .\n",
      "  Output: [1, 2, 4, 5, 6, 7, 1, 8, 9]\n",
      "Sequence 2 in x\n",
      "  Input:  By Jove , my quick study of lexicography won a prize .\n",
      "  Output: [10, 11, 12, 2, 13, 14, 15, 16, 3, 17]\n",
      "Sequence 3 in x\n",
      "  Input:  This is a short sentence .\n",
      "  Output: [18, 19, 3, 20, 21]\n"
     ]
    }
   ],
   "source": [
    "def tokenize(x):\n",
    "    \"\"\"\n",
    "    Tokenize x\n",
    "    :param x: List of sentences/strings to be tokenized\n",
    "    :return: Tuple of (tokenized x data, tokenizer used to tokenize x)\n",
    "    \"\"\"\n",
    "    # TODO: Implement\n",
    "    tokenizer = Tokenizer()\n",
    "    tokenizer.fit_on_texts(x)\n",
    "    \n",
    "    return tokenizer.texts_to_sequences(x), tokenizer\n",
    "tests.test_tokenize(tokenize)\n",
    "\n",
    "# Tokenize Example output\n",
    "text_sentences = [\n",
    "    'The quick brown fox jumps over the lazy dog .',\n",
    "    'By Jove , my quick study of lexicography won a prize .',\n",
    "    'This is a short sentence .']\n",
    "text_tokenized, text_tokenizer = tokenize(text_sentences)\n",
    "print(text_tokenizer.word_index)\n",
    "print()\n",
    "for sample_i, (sent, token_sent) in enumerate(zip(text_sentences, text_tokenized)):\n",
    "    print('Sequence {} in x'.format(sample_i + 1))\n",
    "    print('  Input:  {}'.format(sent))\n",
    "    print('  Output: {}'.format(token_sent))"
   ]
  },
  {
   "cell_type": "markdown",
   "metadata": {},
   "source": [
    "### Padding \n",
    "When batching the sequence of word ids together, each sequence needs to be the same length.  Since sentences are dynamic in length, we can add padding to the end of the sequences to make them the same length.\n",
    "\n",
    "Make sure all the English sequences have the same length and all the French sequences have the same length by adding padding to the **end** of each sequence using Keras's [`pad_sequences`](https://keras.io/preprocessing/sequence/#pad_sequences) function."
   ]
  },
  {
   "cell_type": "code",
   "execution_count": 8,
   "metadata": {},
   "outputs": [
    {
     "name": "stdout",
     "output_type": "stream",
     "text": [
      "Sequence 1 in x\n",
      "  Input:  [1 2 4 5 6 7 1 8 9]\n",
      "  Output: [1 2 4 5 6 7 1 8 9 0]\n",
      "Sequence 2 in x\n",
      "  Input:  [10 11 12  2 13 14 15 16  3 17]\n",
      "  Output: [10 11 12  2 13 14 15 16  3 17]\n",
      "Sequence 3 in x\n",
      "  Input:  [18 19  3 20 21]\n",
      "  Output: [18 19  3 20 21  0  0  0  0  0]\n"
     ]
    }
   ],
   "source": [
    "def pad(x, length=None):\n",
    "    \"\"\"\n",
    "    Pad x\n",
    "    :param x: List of sequences.\n",
    "    :param length: Length to pad the sequence to.  If None, use length of longest sequence in x.\n",
    "    :return: Padded numpy array of sequences\n",
    "    \"\"\"\n",
    "    \n",
    "    return pad_sequences(x, maxlen = length, padding = 'post')\n",
    "tests.test_pad(pad)\n",
    "\n",
    "# Pad Tokenized output\n",
    "test_pad = pad(text_tokenized)\n",
    "for sample_i, (token_sent, pad_sent) in enumerate(zip(text_tokenized, test_pad)):\n",
    "    print('Sequence {} in x'.format(sample_i + 1))\n",
    "    print('  Input:  {}'.format(np.array(token_sent)))\n",
    "    print('  Output: {}'.format(pad_sent))"
   ]
  },
  {
   "cell_type": "markdown",
   "metadata": {},
   "source": [
    "### Preprocess Pipeline"
   ]
  },
  {
   "cell_type": "code",
   "execution_count": 9,
   "metadata": {},
   "outputs": [
    {
     "name": "stdout",
     "output_type": "stream",
     "text": [
      "Data Preprocessed\n",
      "Max English sentence length: 15\n",
      "Max French sentence length: 21\n",
      "English vocabulary size: 199\n",
      "French vocabulary size: 344\n"
     ]
    }
   ],
   "source": [
    "def preprocess(x, y):\n",
    "    \"\"\"\n",
    "    Preprocess x and y\n",
    "    :param x: Feature List of sentences\n",
    "    :param y: Label List of sentences\n",
    "    :return: Tuple of (Preprocessed x, Preprocessed y, x tokenizer, y tokenizer)\n",
    "    \"\"\"\n",
    "    preprocess_x, x_tk = tokenize(x)\n",
    "    preprocess_y, y_tk = tokenize(y)\n",
    "\n",
    "    preprocess_x = pad(preprocess_x)\n",
    "    preprocess_y = pad(preprocess_y)\n",
    "\n",
    "    # Keras's sparse_categorical_crossentropy function requires the labels to be in 3 dimensions\n",
    "    preprocess_y = preprocess_y.reshape(*preprocess_y.shape, 1)\n",
    "\n",
    "    return preprocess_x, preprocess_y, x_tk, y_tk\n",
    "\n",
    "preproc_english_sentences, preproc_french_sentences, english_tokenizer, french_tokenizer =\\\n",
    "    preprocess(english_sentences, french_sentences)\n",
    "    \n",
    "max_english_sequence_length = preproc_english_sentences.shape[1]\n",
    "max_french_sequence_length = preproc_french_sentences.shape[1]\n",
    "english_vocab_size = len(english_tokenizer.word_index)\n",
    "french_vocab_size = len(french_tokenizer.word_index)\n",
    "\n",
    "print('Data Preprocessed')\n",
    "print(\"Max English sentence length:\", max_english_sequence_length)\n",
    "print(\"Max French sentence length:\", max_french_sequence_length)\n",
    "print(\"English vocabulary size:\", english_vocab_size)\n",
    "print(\"French vocabulary size:\", french_vocab_size)"
   ]
  },
  {
   "cell_type": "markdown",
   "metadata": {},
   "source": [
    "## Split the data into training and test tests"
   ]
  },
  {
   "cell_type": "code",
   "execution_count": 10,
   "metadata": {},
   "outputs": [],
   "source": [
    "english_sentences_train, english_sentences_test, french_sentences_train, french_sentences_test = train_test_split(english_sentences, french_sentences, test_size=0.2, random_state=42)"
   ]
  },
  {
   "cell_type": "markdown",
   "metadata": {},
   "source": [
    "## Counting and analyzing vocabulary in the training sets "
   ]
  },
  {
   "cell_type": "code",
   "execution_count": 11,
   "metadata": {},
   "outputs": [
    {
     "name": "stdout",
     "output_type": "stream",
     "text": [
      "1458806 English words in the training set.\n",
      "227 unique English words in the training set.\n",
      "10 Most common words in the English training dataset:\n",
      "\"is\" \",\" \".\" \"in\" \"it\" \"during\" \"the\" \"but\" \"and\" \"sometimes\"\n",
      "\n",
      "1568964 French words in the training set.\n",
      "354 unique French words in the training set.\n",
      "10 Most common words in the French training dataset:\n",
      "\"est\" \".\" \",\" \"en\" \"il\" \"les\" \"mais\" \"et\" \"la\" \"parfois\"\n"
     ]
    }
   ],
   "source": [
    "english_train_words_counter = collections.Counter([word for sentence in english_sentences_train for word in sentence.split()])\n",
    "french_train_words_counter = collections.Counter([word for sentence in french_sentences_train for word in sentence.split()])\n",
    "\n",
    "print('{} English words in the training set.'.format(len([word for sentence in english_sentences_train for word in sentence.split()])))\n",
    "print('{} unique English words in the training set.'.format(len(english_train_words_counter)))\n",
    "print('10 Most common words in the English training dataset:')\n",
    "print('\"' + '\" \"'.join(list(zip(*english_train_words_counter.most_common(10)))[0]) + '\"')\n",
    "print()\n",
    "print('{} French words in the training set.'.format(len([word for sentence in french_sentences_train for word in sentence.split()])))\n",
    "print('{} unique French words in the training set.'.format(len(french_train_words_counter)))\n",
    "print('10 Most common words in the French training dataset:')\n",
    "print('\"' + '\" \"'.join(list(zip(*french_train_words_counter.most_common(10)))[0]) + '\"')"
   ]
  },
  {
   "cell_type": "markdown",
   "metadata": {},
   "source": [
    "## Counting and analyzing vocabulary in the test sets "
   ]
  },
  {
   "cell_type": "code",
   "execution_count": 12,
   "metadata": {},
   "outputs": [
    {
     "name": "stdout",
     "output_type": "stream",
     "text": [
      "364444 English words in the test set.\n",
      "227 unique English words in the test set.\n",
      "10 Most common words in the English test dataset:\n",
      "\"is\" \",\" \".\" \"in\" \"it\" \"during\" \"the\" \"but\" \"and\" \"sometimes\"\n",
      "\n",
      "392331 French words in the test set.\n",
      "338 unique French words in the test set.\n",
      "10 Most common words in the French test dataset:\n",
      "\"est\" \".\" \",\" \"en\" \"il\" \"les\" \"mais\" \"et\" \"la\" \"parfois\"\n"
     ]
    }
   ],
   "source": [
    "english_test_words_counter = collections.Counter([word for sentence in english_sentences_test for word in sentence.split()])\n",
    "french_test_words_counter = collections.Counter([word for sentence in french_sentences_test for word in sentence.split()])\n",
    "\n",
    "print('{} English words in the test set.'.format(len([word for sentence in english_sentences_test for word in sentence.split()])))\n",
    "print('{} unique English words in the test set.'.format(len(english_test_words_counter)))\n",
    "print('10 Most common words in the English test dataset:')\n",
    "print('\"' + '\" \"'.join(list(zip(*english_test_words_counter.most_common(10)))[0]) + '\"')\n",
    "print()\n",
    "print('{} French words in the test set.'.format(len([word for sentence in french_sentences_test for word in sentence.split()])))\n",
    "print('{} unique French words in the test set.'.format(len(french_test_words_counter)))\n",
    "print('10 Most common words in the French test dataset:')\n",
    "print('\"' + '\" \"'.join(list(zip(*french_test_words_counter.most_common(10)))[0]) + '\"')"
   ]
  },
  {
   "cell_type": "code",
   "execution_count": 13,
   "metadata": {},
   "outputs": [
    {
     "name": "stdout",
     "output_type": "stream",
     "text": [
      "Training Data Preprocessed\n",
      "Max English train dataset sentence length: 15\n",
      "Max French train dataset sentence length: 21\n",
      "English train dataset vocabulary size: 199\n",
      "French train dataset vocabulary size: 343\n",
      "English train dataset shape: (110288, 15)\n",
      "French train dataset shape: (110288, 21, 1)\n"
     ]
    }
   ],
   "source": [
    "preproc_english_sentences_train, preproc_french_sentences_train, english_tokenizer_train, french_tokenizer_train =\\\n",
    "    preprocess(english_sentences_train, french_sentences_train)\n",
    "    \n",
    "max_english_sequence_length_train = preproc_english_sentences_train.shape[1]\n",
    "max_french_sequence_length_train = preproc_french_sentences_train.shape[1]\n",
    "english_vocab_size_train = len(english_tokenizer_train.word_index)\n",
    "french_vocab_size_train = len(french_tokenizer_train.word_index)\n",
    "\n",
    "print('Training Data Preprocessed')\n",
    "print(\"Max English train dataset sentence length:\", max_english_sequence_length_train)\n",
    "print(\"Max French train dataset sentence length:\", max_french_sequence_length_train)\n",
    "print(\"English train dataset vocabulary size:\", english_vocab_size_train)\n",
    "print(\"French train dataset vocabulary size:\", french_vocab_size_train)\n",
    "print(\"English train dataset shape:\", preproc_english_sentences_train.shape)\n",
    "print(\"French train dataset shape:\", preproc_french_sentences_train.shape)"
   ]
  },
  {
   "cell_type": "markdown",
   "metadata": {},
   "source": [
    "## Preprocessing pipeline on the test sets"
   ]
  },
  {
   "cell_type": "code",
   "execution_count": 14,
   "metadata": {},
   "outputs": [
    {
     "name": "stdout",
     "output_type": "stream",
     "text": [
      "Test Data Preprocessed\n",
      "Max English test dataset sentence length: 15\n",
      "Max French test dataset sentence length: 20\n",
      "English test datset vocab size: 199\n",
      "French test dataset vocab size 326\n",
      "English test dataset shape: (27573, 15)\n",
      "French test dataset shape: (27573, 20, 1)\n"
     ]
    }
   ],
   "source": [
    "preproc_english_sentences_test, preproc_french_sentences_test, english_tokenizer_test, french_tokenizer_test =\\\n",
    "    preprocess(english_sentences_test, french_sentences_test)\n",
    "    \n",
    "max_english_sequence_length_test = preproc_english_sentences_test.shape[1]\n",
    "max_french_sequence_length_test = preproc_french_sentences_test.shape[1]\n",
    "english_vocab_size_test = len(english_tokenizer_test.word_index)\n",
    "french_vocab_size_test = len(french_tokenizer_test.word_index)\n",
    "\n",
    "print('Test Data Preprocessed')\n",
    "print('Max English test dataset sentence length:', max_english_sequence_length_test)\n",
    "print('Max French test dataset sentence length:', max_french_sequence_length_test)\n",
    "print('English test datset vocab size:', english_vocab_size_test)\n",
    "print('French test dataset vocab size', french_vocab_size_test)\n",
    "print(\"English test dataset shape:\", preproc_english_sentences_test.shape)\n",
    "print(\"French test dataset shape:\", preproc_french_sentences_test.shape)"
   ]
  },
  {
   "cell_type": "markdown",
   "metadata": {},
   "source": [
    "## Models\n",
    "In this section, you will experiment with various neural network architectures.\n",
    "You will begin by training four relatively simple architectures.\n",
    "- Model 1 is a simple RNN\n",
    "- Model 2 is a RNN with Embedding\n",
    "- Model 3 is a Bidirectional RNN\n",
    "- Model 4 is an optional Encoder-Decoder RNN\n",
    "\n",
    "After experimenting with the four simple architectures, you will construct a deeper architecture that is designed to outperform all four models.\n",
    "### Ids Back to Text\n",
    "The neural network will be translating the input to words ids, which isn't the final form we want.  We want the French translation.  The function `logits_to_text` will bridge the gab between the logits from the neural network to the French translation.  You'll be using this function to better understand the output of the neural network."
   ]
  },
  {
   "cell_type": "code",
   "execution_count": 15,
   "metadata": {},
   "outputs": [
    {
     "name": "stdout",
     "output_type": "stream",
     "text": [
      "`logits_to_text` function loaded.\n"
     ]
    }
   ],
   "source": [
    "def logits_to_text(logits, tokenizer):\n",
    "    \"\"\"\n",
    "    Turn logits from a neural network into text using the tokenizer\n",
    "    :param logits: Logits from a neural network\n",
    "    :param tokenizer: Keras Tokenizer fit on the labels\n",
    "    :return: String that represents the text of the logits\n",
    "    \"\"\"\n",
    "    index_to_words = {id: word for word, id in tokenizer.word_index.items()}\n",
    "    index_to_words[0] = '<PAD>'\n",
    "\n",
    "    return ' '.join([index_to_words[prediction] for prediction in np.argmax(logits, 1)])\n",
    "\n",
    "print('`logits_to_text` function loaded.')"
   ]
  },
  {
   "cell_type": "markdown",
   "metadata": {},
   "source": [
    "### Model 1: RNN (IMPLEMENTATION)\n",
    "![RNN](images/rnn.png)\n",
    "A basic RNN model is a good baseline for sequence data.  In this model, you'll build a RNN that translates English to French."
   ]
  },
  {
   "cell_type": "code",
   "execution_count": null,
   "metadata": {},
   "outputs": [],
   "source": [
    "from keras.models import Sequential\n",
    "from keras.layers import SimpleRNN, BatchNormalization"
   ]
  },
  {
   "cell_type": "markdown",
   "metadata": {},
   "source": [
    "### RNN Model on Training and Test Data"
   ]
  },
  {
   "cell_type": "code",
   "execution_count": 19,
   "metadata": {},
   "outputs": [],
   "source": [
    "from keras.models import Sequential\n",
    "from keras.layers import SimpleRNN, BatchNormalization\n",
    "\n",
    "def simple_model_split(input_shape, output_sequence_length, english_vocab_size, french_vocab_size):\n",
    "    \"\"\"\n",
    "    Build and train a basic RNN on x and y\n",
    "    :param input_shape: Tuple of input shape\n",
    "    :param output_sequence_length: Length of output sequence\n",
    "    :param english_vocab_size: Number of unique English words in the dataset\n",
    "    :param french_vocab_size: Number of unique French words in the dataset\n",
    "    :return: Keras model built, but not trained\n",
    "    \"\"\"\n",
    "    # TODO: Build the layers\n",
    "    \n",
    "    model = Sequential()\n",
    "    model.add(GRU(english_vocab_size, return_sequences=True, input_shape=input_shape[1:]))\n",
    "    model.add(TimeDistributed(Dense(french_vocab_size, activation='softmax')))\n",
    "    #model.add(Dense(french_vocab_size, activation='softmax'))\n",
    "    \n",
    "    model.compile(loss=sparse_categorical_crossentropy, optimizer=Adam(.001), metrics=['acc'])        \n",
    "    \n",
    "    return model\n",
    "\n",
    "tests.test_simple_model(simple_model_split)\n",
    "\n",
    "# Reshaping the input to work with a basic RNN\n",
    "tmp_x = pad(preproc_english_sentences_train, max_french_sequence_length_train)\n",
    "tmp_x = tmp_x.reshape((-1, preproc_french_sentences_train.shape[-2], 1))\n",
    "\n",
    "test_x = pad(preproc_english_sentences_test, max_french_sequence_length_test)\n",
    "test_x = test_x.reshape((-1, preproc_french_sentences_train.shape[-2], 1))\n",
    "\n",
    "preproc_french_sentences_test = preproc_french_sentences_test.reshape((-1, \n",
    "                                                                       preproc_french_sentences_train.shape[-2], 1))"
   ]
  },
  {
   "cell_type": "code",
   "execution_count": 22,
   "metadata": {},
   "outputs": [
    {
     "name": "stdout",
     "output_type": "stream",
     "text": [
      "tmp_x shape: (110288, 21, 1)\n",
      "test_x shape: (26260, 21, 1)\n",
      "preproc french sentences shape: (26260, 21, 1)\n"
     ]
    }
   ],
   "source": [
    "print('tmp_x shape:', tmp_x.shape)\n",
    "print('test_x shape:', test_x.shape)\n",
    "print('preproc french sentences shape:', preproc_french_sentences_test.shape)"
   ]
  },
  {
   "cell_type": "code",
   "execution_count": 32,
   "metadata": {},
   "outputs": [
    {
     "name": "stdout",
     "output_type": "stream",
     "text": [
      "Train on 88230 samples, validate on 22058 samples\n",
      "Epoch 1/12\n",
      "88230/88230 [==============================] - 8s 89us/step - loss: 2.8535 - acc: 0.4580 - val_loss: 2.1710 - val_acc: 0.5129\n",
      "Epoch 2/12\n",
      "88230/88230 [==============================] - 7s 83us/step - loss: 1.8883 - acc: 0.5572 - val_loss: 1.6774 - val_acc: 0.5804\n",
      "Epoch 3/12\n",
      "88230/88230 [==============================] - 7s 84us/step - loss: 1.5780 - acc: 0.5938 - val_loss: 1.4970 - val_acc: 0.6021\n",
      "Epoch 4/12\n",
      "88230/88230 [==============================] - 7s 83us/step - loss: 1.4397 - acc: 0.6108 - val_loss: 1.3893 - val_acc: 0.6160\n",
      "Epoch 5/12\n",
      "88230/88230 [==============================] - 7s 83us/step - loss: 1.3500 - acc: 0.6254 - val_loss: 1.3129 - val_acc: 0.6324\n",
      "Epoch 6/12\n",
      "88230/88230 [==============================] - 7s 83us/step - loss: 1.2792 - acc: 0.6382 - val_loss: 1.2484 - val_acc: 0.6420\n",
      "Epoch 7/12\n",
      "88230/88230 [==============================] - 7s 83us/step - loss: 1.2169 - acc: 0.6492 - val_loss: 1.1938 - val_acc: 0.6532\n",
      "Epoch 8/12\n",
      "88230/88230 [==============================] - 7s 83us/step - loss: 1.1662 - acc: 0.6602 - val_loss: 1.1472 - val_acc: 0.6631\n",
      "Epoch 9/12\n",
      "88230/88230 [==============================] - 7s 83us/step - loss: 1.1241 - acc: 0.6693 - val_loss: 1.1071 - val_acc: 0.6733\n",
      "Epoch 10/12\n",
      "88230/88230 [==============================] - 7s 83us/step - loss: 1.0871 - acc: 0.6783 - val_loss: 1.0713 - val_acc: 0.6813\n",
      "Epoch 11/12\n",
      "88230/88230 [==============================] - 7s 83us/step - loss: 1.0537 - acc: 0.6873 - val_loss: 1.0409 - val_acc: 0.6894\n",
      "Epoch 12/12\n",
      "88230/88230 [==============================] - 7s 83us/step - loss: 1.0273 - acc: 0.6934 - val_loss: 1.0167 - val_acc: 0.6981\n",
      "la est est généralement le en en mais il est jamais agréable agréable en <PAD> <PAD> <PAD> <PAD> <PAD> <PAD> <PAD>\n"
     ]
    }
   ],
   "source": [
    "# Train the neural network\n",
    "simple_rnn_model_split = simple_model_split(\n",
    "    tmp_x.shape,\n",
    "    max_french_sequence_length_train,\n",
    "    english_vocab_size,\n",
    "    french_vocab_size)\n",
    "simple_rnn_model_split.fit(tmp_x, preproc_french_sentences_train, batch_size=1024, epochs=12, \n",
    "                           validation_split=0.2)\n",
    "\n",
    "# Print prediction(s)\n",
    "print(logits_to_text(simple_rnn_model_split.predict(tmp_x[:1])[0], french_tokenizer_train))"
   ]
  },
  {
   "cell_type": "markdown",
   "metadata": {},
   "source": [
    "### Simple RNN Model Scoring"
   ]
  },
  {
   "cell_type": "code",
   "execution_count": 31,
   "metadata": {},
   "outputs": [
    {
     "name": "stdout",
     "output_type": "stream",
     "text": [
      "Simple RNN model accuracy on test dataset: 38.16%\n"
     ]
    }
   ],
   "source": [
    "\n",
    "simple_rnn_model_score = simple_rnn_model_split.evaluate(test_x, preproc_french_sentences_test, verbose=0)\n",
    "\n",
    "print(\"Simple RNN model accuracy on test dataset: {0:.2f}%\".format(simple_rnn_model_score[1]*100))"
   ]
  },
  {
   "cell_type": "markdown",
   "metadata": {},
   "source": [
    "### Model 2: Embedding \n",
    "![RNN](images/embedding.png)\n",
    "An embedding is a vector representation of the word that is close to similar words in n-dimensional space, where the n represents the size of the embedding vectors."
   ]
  },
  {
   "cell_type": "markdown",
   "metadata": {},
   "source": [
    "### Embedding Model on Training and Test Data"
   ]
  },
  {
   "cell_type": "code",
   "execution_count": 42,
   "metadata": {},
   "outputs": [
    {
     "name": "stdout",
     "output_type": "stream",
     "text": [
      "_________________________________________________________________\n",
      "Layer (type)                 Output Shape              Param #   \n",
      "=================================================================\n",
      "embedding_2 (Embedding)      (None, 21, 21)            4179      \n",
      "_________________________________________________________________\n",
      "gru_4 (GRU)                  (None, 21, 199)           131937    \n",
      "_________________________________________________________________\n",
      "time_distributed_4 (TimeDist (None, 21, 344)           68800     \n",
      "_________________________________________________________________\n",
      "lstm_2 (LSTM)                (None, 21, 344)           948064    \n",
      "=================================================================\n",
      "Total params: 1,152,980\n",
      "Trainable params: 1,152,980\n",
      "Non-trainable params: 0\n",
      "_________________________________________________________________\n",
      "(110288, 21)\n"
     ]
    }
   ],
   "source": [
    "from keras.utils.vis_utils import plot_model\n",
    "\n",
    "def embed_model_split(input_shape, output_sequence_length, english_vocab_size, french_vocab_size):\n",
    "    \"\"\"\n",
    "    Build and train a RNN model using word embedding on x and y\n",
    "    :param input_shape: Tuple of input shape\n",
    "    :param output_sequence_length: Length of output sequence\n",
    "    :param english_vocab_size: Number of unique English words in the dataset\n",
    "    :param french_vocab_size: Number of unique French words in the dataset\n",
    "    :return: Keras model built, but not trained\n",
    "    \"\"\"\n",
    "    # TODO: Implement\n",
    "    #input_dim = english_vocab_size\n",
    "    #output_dim = output_sequence_length\n",
    "    \n",
    "    model = Sequential()\n",
    "    #model.add(Embedding(input_dim=english_vocab_size, output_dim=output_sequence_length, input_length=input_shape[1:][0]))\n",
    "    model.add(Embedding(input_dim=english_vocab_size, output_dim=output_sequence_length, input_shape=input_shape[1:]))\n",
    "#     model.add(Flatten())\n",
    "    model.add(GRU(english_vocab_size, return_sequences=True))\n",
    "    model.add(TimeDistributed(Dense(french_vocab_size, activation='softmax')))\n",
    "    model.add(LSTM(french_vocab_size, return_sequences=True))\n",
    "\n",
    "    model.compile(loss=sparse_categorical_crossentropy, optimizer=Adam(.001), metrics=['acc'])        \n",
    "    model.summary()\n",
    "    return model\n",
    "\n",
    "tests.test_embed_model(embed_model_split)\n",
    "\n",
    "\n",
    "# TODO: Reshape the input\n",
    "tmp_x = pad(preproc_english_sentences_train, max_french_sequence_length_train)\n",
    "tmp_x = tmp_x.reshape((-1, preproc_french_sentences_train.shape[-2]))\n",
    "#works with the reshape commented out\n",
    "print(tmp_x.shape)"
   ]
  },
  {
   "cell_type": "code",
   "execution_count": 43,
   "metadata": {},
   "outputs": [
    {
     "name": "stdout",
     "output_type": "stream",
     "text": [
      "_________________________________________________________________\n",
      "Layer (type)                 Output Shape              Param #   \n",
      "=================================================================\n",
      "embedding_3 (Embedding)      (None, 21, 22)            4400      \n",
      "_________________________________________________________________\n",
      "gru_5 (GRU)                  (None, 21, 200)           133800    \n",
      "_________________________________________________________________\n",
      "time_distributed_5 (TimeDist (None, 21, 344)           69144     \n",
      "_________________________________________________________________\n",
      "lstm_3 (LSTM)                (None, 21, 344)           948064    \n",
      "=================================================================\n",
      "Total params: 1,155,408\n",
      "Trainable params: 1,155,408\n",
      "Non-trainable params: 0\n",
      "_________________________________________________________________\n",
      "Train on 88230 samples, validate on 22058 samples\n",
      "Epoch 1/12\n",
      "88230/88230 [==============================] - 22s 253us/step - loss: 5.5731 - acc: 0.4058 - val_loss: 4.4124 - val_acc: 0.4135\n",
      "Epoch 2/12\n",
      "88230/88230 [==============================] - 21s 243us/step - loss: 3.8782 - acc: 0.4626 - val_loss: 3.3794 - val_acc: 0.4707\n",
      "Epoch 3/12\n",
      "88230/88230 [==============================] - 21s 243us/step - loss: 3.2711 - acc: 0.4579 - val_loss: 3.1314 - val_acc: 0.4757\n",
      "Epoch 4/12\n",
      "88230/88230 [==============================] - 21s 243us/step - loss: 2.9257 - acc: 0.4865 - val_loss: 2.7958 - val_acc: 0.4868\n",
      "Epoch 5/12\n",
      "88230/88230 [==============================] - 21s 243us/step - loss: 2.7797 - acc: 0.4791 - val_loss: 2.6540 - val_acc: 0.4873\n",
      "Epoch 6/12\n",
      "88230/88230 [==============================] - 21s 243us/step - loss: 2.5622 - acc: 0.5006 - val_loss: 2.4780 - val_acc: 0.5387\n",
      "Epoch 7/12\n",
      "88230/88230 [==============================] - 21s 243us/step - loss: 2.3795 - acc: 0.5375 - val_loss: 2.2061 - val_acc: 0.5484\n",
      "Epoch 8/12\n",
      "88230/88230 [==============================] - 21s 243us/step - loss: 2.4343 - acc: 0.5455 - val_loss: 2.1943 - val_acc: 0.5506\n",
      "Epoch 9/12\n",
      "88230/88230 [==============================] - 21s 243us/step - loss: 2.2863 - acc: 0.5297 - val_loss: 2.2353 - val_acc: 0.5431\n",
      "Epoch 10/12\n",
      "88230/88230 [==============================] - 21s 243us/step - loss: 2.1549 - acc: 0.5555 - val_loss: 2.2050 - val_acc: 0.5522\n",
      "Epoch 11/12\n",
      "88230/88230 [==============================] - 21s 243us/step - loss: 2.1453 - acc: 0.5571 - val_loss: 2.0621 - val_acc: 0.5723\n",
      "Epoch 12/12\n",
      "88230/88230 [==============================] - 21s 243us/step - loss: 2.0591 - acc: 0.5700 - val_loss: 2.0212 - val_acc: 0.5768\n"
     ]
    },
    {
     "data": {
      "text/plain": [
       "<keras.callbacks.History at 0x7f9313374b00>"
      ]
     },
     "execution_count": 43,
     "metadata": {},
     "output_type": "execute_result"
    }
   ],
   "source": [
    "# TODO: Train the neural network\n",
    "simple_embed_model_split = embed_model_split(\n",
    "    tmp_x.shape,\n",
    "    max_french_sequence_length_train + 1,\n",
    "    english_vocab_size_train + 1,\n",
    "    french_vocab_size_train + 1)\n",
    "\n",
    "    # TODO: Print prediction(s)\n",
    "simple_embed_model_split.fit(tmp_x, preproc_french_sentences_train, batch_size=1024, epochs=12, validation_split=0.2)"
   ]
  },
  {
   "cell_type": "markdown",
   "metadata": {},
   "source": [
    "### Embedded Model Scoring on Test Data"
   ]
  },
  {
   "cell_type": "code",
   "execution_count": 45,
   "metadata": {},
   "outputs": [
    {
     "name": "stdout",
     "output_type": "stream",
     "text": [
      "26260/26260 [==============================] - 18s 670us/step\n",
      "Simple Embedding model accuracy on test dataset: 30.78%\n"
     ]
    }
   ],
   "source": [
    "test_x = pad(preproc_english_sentences_test, max_french_sequence_length_test)\n",
    "test_x = test_x.reshape((-1, preproc_french_sentences_train.shape[-2]))\n",
    "\n",
    "preproc_french_sentences_test = preproc_french_sentences_test.reshape((-1, \n",
    "                                                                       preproc_french_sentences_train.shape[-2], 1))\n",
    "\n",
    "simple_embed_model_score = simple_embed_model_split.evaluate(test_x, preproc_french_sentences_test, verbose=1)\n",
    "\n",
    "print(\"Simple Embedding model accuracy on test dataset: {0:.2f}%\".format(simple_embed_model_score[1]*100))"
   ]
  },
  {
   "cell_type": "code",
   "execution_count": 46,
   "metadata": {},
   "outputs": [
    {
     "name": "stdout",
     "output_type": "stream",
     "text": [
      "Original English sentence: \n",
      " california is never hot during autumn , but it is never dry in march .\n",
      "\n",
      "Predicted sentece: \n",
      " fait est parfois parfois en automne mais il il est est est en <PAD> <PAD> <PAD> <PAD> <PAD> <PAD> <PAD> <PAD>\n",
      "\n",
      "Original French sentence: \n",
      " californie est jamais chaud pendant l' automne , mais il est jamais sec en mars .\n"
     ]
    }
   ],
   "source": [
    "print(\"Original English sentence: \\n\", english_sentences_test[1])\n",
    "\n",
    "print(\"\\nPredicted sentece: \\n\", logits_to_text(simple_embed_model_split.predict(test_x)[0], french_tokenizer_test))\n",
    "\n",
    "print(\"\\nOriginal French sentence: \\n\", french_sentences_test[1])"
   ]
  },
  {
   "cell_type": "markdown",
   "metadata": {},
   "source": [
    "### Model 3: Bidirectional RNNs \n",
    "![RNN](images/bidirectional.png)\n",
    "One restriction of a RNN is that it can't see the future input, only the past.  This is where bidirectional recurrent neural networks come in.  They are able to see the future data."
   ]
  },
  {
   "cell_type": "markdown",
   "metadata": {},
   "source": [
    "### Bidirectional RNN on Training and Test Data"
   ]
  },
  {
   "cell_type": "code",
   "execution_count": 16,
   "metadata": {},
   "outputs": [],
   "source": [
    "# TODO: Reshape the input\n",
    "tmp_x = pad(preproc_english_sentences_train, max_french_sequence_length_train)\n",
    "tmp_x = tmp_x.reshape((-1, preproc_french_sentences_train.shape[-2], 1))\n",
    "\n",
    "test_x = pad(preproc_english_sentences_test, max_french_sequence_length_test)\n",
    "test_x = test_x.reshape((-1, preproc_french_sentences_train.shape[-2], 1))\n",
    "\n",
    "preproc_french_sentences_test = preproc_french_sentences_test.reshape((-1, \n",
    "                                preproc_french_sentences_train.shape[-2], 1))"
   ]
  },
  {
   "cell_type": "code",
   "execution_count": 17,
   "metadata": {},
   "outputs": [
    {
     "name": "stdout",
     "output_type": "stream",
     "text": [
      "_________________________________________________________________\n",
      "Layer (type)                 Output Shape              Param #   \n",
      "=================================================================\n",
      "bidirectional_1 (Bidirection (None, 21, 398)           239994    \n",
      "_________________________________________________________________\n",
      "time_distributed_1 (TimeDist (None, 21, 344)           137256    \n",
      "=================================================================\n",
      "Total params: 377,250\n",
      "Trainable params: 377,250\n",
      "Non-trainable params: 0\n",
      "_________________________________________________________________\n"
     ]
    }
   ],
   "source": [
    "def bd_model_split(input_shape, output_sequence_length, english_vocab_size, french_vocab_size):\n",
    "    \"\"\"\n",
    "    Build and train a bidirectional RNN model on x and y\n",
    "    :param input_shape: Tuple of input shape\n",
    "    :param output_sequence_length: Length of output sequence\n",
    "    :param english_vocab_size: Number of unique English words in the dataset\n",
    "    :param french_vocab_size: Number of unique French words in the dataset\n",
    "    :return: Keras model built, but not trained\n",
    "    \"\"\"\n",
    "    # TODO: Implement\n",
    "    \n",
    "    model = Sequential()\n",
    "    #model.add(Embedding(input_dim=english_vocab_size, output_dim=output_sequence_length, input_shape=input_shape[1:][0]))\n",
    "    model.add(Bidirectional(GRU(english_vocab_size, return_sequences=True), input_shape=input_shape[1:]))\n",
    "    #model.add(Dense(french_vocab_size, activation='relu'))\n",
    "    model.add(TimeDistributed(Dense(french_vocab_size, activation='softmax')))\n",
    "\n",
    "    model.compile(loss=sparse_categorical_crossentropy, optimizer=Adam(.001), metrics=['acc'])        \n",
    "    model.summary()\n",
    "    return model\n",
    "\n",
    "    \n",
    "tests.test_bd_model(bd_model_split)\n"
   ]
  },
  {
   "cell_type": "code",
   "execution_count": 18,
   "metadata": {},
   "outputs": [
    {
     "name": "stdout",
     "output_type": "stream",
     "text": [
      "_________________________________________________________________\n",
      "Layer (type)                 Output Shape              Param #   \n",
      "=================================================================\n",
      "bidirectional_2 (Bidirection (None, 21, 398)           239994    \n",
      "_________________________________________________________________\n",
      "time_distributed_2 (TimeDist (None, 21, 344)           137256    \n",
      "=================================================================\n",
      "Total params: 377,250\n",
      "Trainable params: 377,250\n",
      "Non-trainable params: 0\n",
      "_________________________________________________________________\n",
      "Train on 88230 samples, validate on 22058 samples\n",
      "Epoch 1/10\n",
      "88230/88230 [==============================] - 15s 171us/step - loss: 2.4570 - acc: 0.5244 - val_loss: 1.6496 - val_acc: 0.5883\n",
      "Epoch 2/10\n",
      "88230/88230 [==============================] - 12s 141us/step - loss: 1.4906 - acc: 0.6127 - val_loss: 1.3772 - val_acc: 0.6268\n",
      "Epoch 3/10\n",
      "88230/88230 [==============================] - 12s 142us/step - loss: 1.3110 - acc: 0.6395 - val_loss: 1.2549 - val_acc: 0.6492\n",
      "Epoch 4/10\n",
      "88230/88230 [==============================] - 13s 142us/step - loss: 1.2094 - acc: 0.6572 - val_loss: 1.1721 - val_acc: 0.6619\n",
      "Epoch 5/10\n",
      "88230/88230 [==============================] - 12s 141us/step - loss: 1.1360 - acc: 0.6709 - val_loss: 1.1069 - val_acc: 0.6778\n",
      "Epoch 6/10\n",
      "88230/88230 [==============================] - 13s 142us/step - loss: 1.0777 - acc: 0.6822 - val_loss: 1.0522 - val_acc: 0.6872\n",
      "Epoch 7/10\n",
      "88230/88230 [==============================] - 13s 142us/step - loss: 1.0280 - acc: 0.6909 - val_loss: 1.0178 - val_acc: 0.6899\n",
      "Epoch 8/10\n",
      "88230/88230 [==============================] - 12s 141us/step - loss: 0.9876 - acc: 0.6991 - val_loss: 0.9708 - val_acc: 0.7044\n",
      "Epoch 9/10\n",
      "88230/88230 [==============================] - 13s 142us/step - loss: 0.9501 - acc: 0.7075 - val_loss: 0.9366 - val_acc: 0.7093\n",
      "Epoch 10/10\n",
      "88230/88230 [==============================] - 12s 141us/step - loss: 0.9159 - acc: 0.7161 - val_loss: 0.8988 - val_acc: 0.7216\n",
      "l' est est généralement en en et et il est agréable agréable en en <PAD> <PAD> <PAD> <PAD> <PAD> <PAD> <PAD>\n"
     ]
    }
   ],
   "source": [
    "# TODO: Train the neural network\n",
    "bd_model_split = bd_model_split(\n",
    "    tmp_x.shape,\n",
    "    max_french_sequence_length_train,\n",
    "    english_vocab_size,\n",
    "    french_vocab_size)\n",
    "\n",
    "# TODO: Print prediction(s)\n",
    "bd_model_split.fit(tmp_x, preproc_french_sentences_train, batch_size=1024, epochs=10, validation_split=0.2)\n",
    "\n",
    "print(logits_to_text(bd_model_split.predict(tmp_x[:1])[0], french_tokenizer_train))"
   ]
  },
  {
   "cell_type": "markdown",
   "metadata": {},
   "source": [
    "### Bidirectional Model Scoring"
   ]
  },
  {
   "cell_type": "code",
   "execution_count": 20,
   "metadata": {},
   "outputs": [
    {
     "name": "stdout",
     "output_type": "stream",
     "text": [
      "26260/26260 [==============================] - 14s 532us/step\n",
      "Bidirectional model accuracy on test dataset: 29.21%\n"
     ]
    }
   ],
   "source": [
    "bd_model_split_score = bd_model_split.evaluate(test_x, preproc_french_sentences_test, verbose=1)\n",
    "\n",
    "print(\"Bidirectional model accuracy on test dataset: {0:.2f}%\".format(bd_model_split_score[1]*100))"
   ]
  },
  {
   "cell_type": "code",
   "execution_count": 36,
   "metadata": {
    "scrolled": true
   },
   "outputs": [
    {
     "name": "stdout",
     "output_type": "stream",
     "text": [
      "Original English sentence: \n",
      " california is never hot during autumn , but it is never dry in march .\n",
      "\n",
      "Predicted sentece: \n",
      " inde est parfois son pamplemousse l' votre il est parfois parfois au octobre été été mais mais <PAD> est parfois <PAD>\n",
      "\n",
      "Original French sentence: \n",
      " californie est jamais chaud pendant l' automne , mais il est jamais sec en mars .\n"
     ]
    }
   ],
   "source": [
    "print(\"Original English sentence: \\n\", english_sentences_test[1])\n",
    "\n",
    "print(\"\\nPredicted sentece: \\n\", logits_to_text(bd_model_split.predict(test_x)[0], french_tokenizer_test))\n",
    "\n",
    "print(\"\\nOriginal French sentence: \\n\", french_sentences_test[1])"
   ]
  },
  {
   "cell_type": "markdown",
   "metadata": {},
   "source": [
    "### Model 4: Encoder-Decoder\n",
    "This model is made up of an encoder and decoder. The encoder creates a matrix representation of the sentence.  The decoder takes this matrix as input and predicts the translation as output."
   ]
  },
  {
   "cell_type": "markdown",
   "metadata": {},
   "source": [
    "### Encoder-Decoder on Training and Test Sets"
   ]
  },
  {
   "cell_type": "code",
   "execution_count": 49,
   "metadata": {},
   "outputs": [
    {
     "name": "stdout",
     "output_type": "stream",
     "text": [
      "_________________________________________________________________\n",
      "Layer (type)                 Output Shape              Param #   \n",
      "=================================================================\n",
      "gru_6 (GRU)                  (None, 199)               119997    \n",
      "_________________________________________________________________\n",
      "dense_6 (Dense)              (None, 344)               68800     \n",
      "_________________________________________________________________\n",
      "repeat_vector_1 (RepeatVecto (None, 21, 344)           0         \n",
      "_________________________________________________________________\n",
      "gru_7 (GRU)                  (None, 21, 199)           324768    \n",
      "_________________________________________________________________\n",
      "time_distributed_6 (TimeDist (None, 21, 344)           68800     \n",
      "_________________________________________________________________\n",
      "activation_1 (Activation)    (None, 21, 344)           0         \n",
      "=================================================================\n",
      "Total params: 582,365\n",
      "Trainable params: 582,365\n",
      "Non-trainable params: 0\n",
      "_________________________________________________________________\n"
     ]
    }
   ],
   "source": [
    "def encdec_model_split(input_shape, output_sequence_length, english_vocab_size_train, french_vocab_size_train):\n",
    "    \"\"\"\n",
    "    Build and train an encoder-decoder model on x and y\n",
    "    :param input_shape: Tuple of input shape\n",
    "    :param output_sequence_length: Length of output sequence\n",
    "    :param english_vocab_size: Number of unique English words in the dataset\n",
    "    :param french_vocab_size: Number of unique French words in the dataset\n",
    "    :return: Keras model built, but not trained\n",
    "    \"\"\"\n",
    "\n",
    "    model = Sequential()\n",
    "    model.add(GRU(english_vocab_size, return_sequences=False, input_shape=input_shape[1:]))\n",
    "    model.add(Dense(french_vocab_size, activation='sigmoid'))\n",
    "    model.add(RepeatVector(output_sequence_length))\n",
    "    model.add(GRU(english_vocab_size, return_sequences=True))\n",
    "    model.add(TimeDistributed(Dense(french_vocab_size)))\n",
    "    model.add(Activation('softmax'))\n",
    "\n",
    "    model.compile(loss=sparse_categorical_crossentropy,\n",
    "                  optimizer=Adam(10e-3),\n",
    "                  metrics=['accuracy'])\n",
    "    model.summary()\n",
    "    return model\n",
    "    \n",
    "    return None\n",
    "tests.test_encdec_model(encdec_model_split)\n",
    "\n",
    "# TODO: Reshape the input\n",
    "tmp_x = pad(preproc_english_sentences_train, max_french_sequence_length_train)\n",
    "tmp_x = tmp_x.reshape((-1, preproc_french_sentences_train.shape[-2], 1))"
   ]
  },
  {
   "cell_type": "code",
   "execution_count": 50,
   "metadata": {},
   "outputs": [
    {
     "name": "stdout",
     "output_type": "stream",
     "text": [
      "_________________________________________________________________\n",
      "Layer (type)                 Output Shape              Param #   \n",
      "=================================================================\n",
      "gru_8 (GRU)                  (None, 199)               119997    \n",
      "_________________________________________________________________\n",
      "dense_8 (Dense)              (None, 344)               68800     \n",
      "_________________________________________________________________\n",
      "repeat_vector_2 (RepeatVecto (None, 21, 344)           0         \n",
      "_________________________________________________________________\n",
      "gru_9 (GRU)                  (None, 21, 199)           324768    \n",
      "_________________________________________________________________\n",
      "time_distributed_7 (TimeDist (None, 21, 344)           68800     \n",
      "_________________________________________________________________\n",
      "activation_2 (Activation)    (None, 21, 344)           0         \n",
      "=================================================================\n",
      "Total params: 582,365\n",
      "Trainable params: 582,365\n",
      "Non-trainable params: 0\n",
      "_________________________________________________________________\n",
      "Train on 88230 samples, validate on 22058 samples\n",
      "Epoch 1/12\n",
      "88230/88230 [==============================] - 16s 177us/step - loss: 2.8468 - acc: 0.4293 - val_loss: 2.3964 - val_acc: 0.4642\n",
      "Epoch 2/12\n",
      "88230/88230 [==============================] - 15s 168us/step - loss: 2.2523 - acc: 0.4686 - val_loss: 2.1911 - val_acc: 0.4767\n",
      "Epoch 3/12\n",
      "88230/88230 [==============================] - 15s 168us/step - loss: 2.1611 - acc: 0.4775 - val_loss: 2.0767 - val_acc: 0.4813\n",
      "Epoch 4/12\n",
      "88230/88230 [==============================] - 15s 168us/step - loss: 1.9720 - acc: 0.5028 - val_loss: 1.8339 - val_acc: 0.5275\n",
      "Epoch 5/12\n",
      "88230/88230 [==============================] - 15s 168us/step - loss: 1.7962 - acc: 0.5408 - val_loss: 1.8053 - val_acc: 0.5378\n",
      "Epoch 6/12\n",
      "88230/88230 [==============================] - 15s 168us/step - loss: 1.6475 - acc: 0.5689 - val_loss: 1.5586 - val_acc: 0.5834\n",
      "Epoch 7/12\n",
      "88230/88230 [==============================] - 15s 169us/step - loss: 1.5382 - acc: 0.5841 - val_loss: 1.5090 - val_acc: 0.5858\n",
      "Epoch 8/12\n",
      "88230/88230 [==============================] - 15s 168us/step - loss: 1.4618 - acc: 0.5966 - val_loss: 1.5119 - val_acc: 0.5933\n",
      "Epoch 9/12\n",
      "88230/88230 [==============================] - 15s 168us/step - loss: 1.4090 - acc: 0.6071 - val_loss: 1.4252 - val_acc: 0.6033\n",
      "Epoch 10/12\n",
      "88230/88230 [==============================] - 15s 169us/step - loss: 1.3949 - acc: 0.6089 - val_loss: 1.3562 - val_acc: 0.6193\n",
      "Epoch 11/12\n",
      "88230/88230 [==============================] - 15s 168us/step - loss: 1.4013 - acc: 0.6072 - val_loss: 1.3413 - val_acc: 0.6264\n",
      "Epoch 12/12\n",
      "88230/88230 [==============================] - 15s 168us/step - loss: 1.4370 - acc: 0.6046 - val_loss: 1.3341 - val_acc: 0.6268\n",
      "la est est jamais en en mais il est est est en en <PAD> <PAD> <PAD> <PAD> <PAD> <PAD> <PAD> <PAD>\n"
     ]
    }
   ],
   "source": [
    "# Build the model\n",
    "encdec_rnn_model_split = encdec_model_split(\n",
    "    tmp_x.shape,\n",
    "    max_french_sequence_length_train,\n",
    "    english_vocab_size,\n",
    "    french_vocab_size)\n",
    "\n",
    "# TODO: Train the neural network\n",
    "encdec_rnn_model_split.fit(tmp_x, preproc_french_sentences_train, batch_size=1024, epochs=12, validation_split=0.2)\n",
    "\n",
    "# TODO: Print prediction(s)\n",
    "print(logits_to_text(encdec_rnn_model_split.predict(tmp_x[:1])[0], french_tokenizer_train))\n"
   ]
  },
  {
   "cell_type": "markdown",
   "metadata": {},
   "source": [
    "### Encoder-Decoder Model Score"
   ]
  },
  {
   "cell_type": "code",
   "execution_count": 53,
   "metadata": {},
   "outputs": [
    {
     "name": "stdout",
     "output_type": "stream",
     "text": [
      "26260/26260 [==============================] - 14s 544us/step\n",
      "Encoder-Decoder model accuracy on test dataset: 29.21%\n"
     ]
    }
   ],
   "source": [
    "test_x = pad(preproc_english_sentences_test, max_french_sequence_length_test)\n",
    "test_x = test_x.reshape((-1, preproc_french_sentences_train.shape[-2], 1))\n",
    "\n",
    "preproc_french_sentences_test = preproc_french_sentences_test.reshape((-1, \n",
    "                                preproc_french_sentences_train.shape[-2], 1))\n",
    "\n",
    "encdec_rnn_model_split_score = encdec_rnn_model_split.evaluate(test_x, preproc_french_sentences_test, verbose=1)\n",
    "\n",
    "print(\"Encoder-Decoder model accuracy on test dataset: {0:.2f}%\".format(bd_model_split_score[1]*100))"
   ]
  },
  {
   "cell_type": "code",
   "execution_count": 54,
   "metadata": {},
   "outputs": [
    {
     "name": "stdout",
     "output_type": "stream",
     "text": [
      "Original English sentence: \n",
      " california is never hot during autumn , but it is never dry in march .\n",
      "\n",
      "Predicted sentece: \n",
      " inde est parfois son pamplemousse l' votre il est parfois parfois au octobre été été mais mais <PAD> est parfois <PAD>\n",
      "\n",
      "Original French sentence: \n",
      " californie est jamais chaud pendant l' automne , mais il est jamais sec en mars .\n"
     ]
    }
   ],
   "source": [
    "print(\"Original English sentence: \\n\", english_sentences_test[1])\n",
    "\n",
    "print(\"\\nPredicted sentece: \\n\", logits_to_text(bd_model_split.predict(test_x)[0], french_tokenizer_test))\n",
    "\n",
    "print(\"\\nOriginal French sentence: \\n\", french_sentences_test[1])"
   ]
  },
  {
   "cell_type": "markdown",
   "metadata": {},
   "source": [
    "### Model 5: Custom \n",
    "Using everything I learned from the previous models to create a model that incorporates embedding and a bidirectional rnn into one model."
   ]
  },
  {
   "cell_type": "markdown",
   "metadata": {},
   "source": [
    "### Final Model on Training and Test Data"
   ]
  },
  {
   "cell_type": "code",
   "execution_count": 22,
   "metadata": {},
   "outputs": [
    {
     "name": "stdout",
     "output_type": "stream",
     "text": [
      "_________________________________________________________________\n",
      "Layer (type)                 Output Shape              Param #   \n",
      "=================================================================\n",
      "embedding_7 (Embedding)      (None, 15, 21)            6300      \n",
      "_________________________________________________________________\n",
      "lstm_31 (LSTM)               (None, 15, 512)           1093632   \n",
      "_________________________________________________________________\n",
      "lstm_32 (LSTM)               (None, 15, 512)           2099200   \n",
      "_________________________________________________________________\n",
      "lstm_33 (LSTM)               (None, 15, 512)           2099200   \n",
      "_________________________________________________________________\n",
      "flatten_7 (Flatten)          (None, 7680)              0         \n",
      "_________________________________________________________________\n",
      "repeat_vector_7 (RepeatVecto (None, 21, 7680)          0         \n",
      "_________________________________________________________________\n",
      "lstm_34 (LSTM)               (None, 21, 512)           16779264  \n",
      "_________________________________________________________________\n",
      "lstm_35 (LSTM)               (None, 21, 512)           2099200   \n",
      "_________________________________________________________________\n",
      "bidirectional_7 (Bidirection (None, 21, 1024)          3148800   \n",
      "_________________________________________________________________\n",
      "time_distributed_6 (TimeDist (None, 21, 344)           352600    \n",
      "=================================================================\n",
      "Total params: 27,678,196\n",
      "Trainable params: 27,678,196\n",
      "Non-trainable params: 0\n",
      "_________________________________________________________________\n",
      "Final Model Loaded\n"
     ]
    }
   ],
   "source": [
    "\n",
    "def model_final_split(input_shape, output_sequence_length, english_vocab_size, french_vocab_size):\n",
    "    \"\"\"\n",
    "    Build and train a model that incorporates embedding, encoder-decoder, and bidirectional RNN on x and y\n",
    "    :param input_shape: Tuple of input shape\n",
    "    :param output_sequence_length: Length of output sequence\n",
    "    :param english_vocab_size: Number of unique English words in the dataset\n",
    "    :param french_vocab_size: Number of unique French words in the dataset\n",
    "    :return: Keras model built, but not trained\n",
    "    \"\"\"\n",
    "    \n",
    "    model = Sequential()\n",
    "    model.add(Embedding(300, output_dim=output_sequence_length,\n",
    "                        input_length=input_shape[1:][0]))\n",
    "    model.add(LSTM(512, return_sequences=True,input_shape=input_shape))\n",
    "    model.add(LSTM(512, return_sequences=True, dropout=0.2, recurrent_dropout=0.2))\n",
    "    model.add(LSTM(512, return_sequences=True, dropout=0.2, recurrent_dropout=0.2))          \n",
    "    model.add(Flatten())\n",
    "    model.add(RepeatVector(output_sequence_length))\n",
    "    model.add(LSTM(512, return_sequences=True, dropout=0.2, recurrent_dropout=0.2))\n",
    "    model.add(LSTM(512, return_sequences=True, dropout=0.2, recurrent_dropout=0.2)) \n",
    "    model.add(Bidirectional(GRU(512, return_sequences=True)))\n",
    "    model.add(TimeDistributed(Dense(french_vocab_size, activation='softmax')))\n",
    "\n",
    "    model.compile(loss=sparse_categorical_crossentropy, optimizer=Adam(lr=0.001),\n",
    "                  metrics=['acc'])\n",
    "    model.summary()\n",
    "    return model\n",
    "\n",
    "\n",
    "tests.test_model_final(model_final_split)\n",
    "\n",
    "#Reshape the input\n",
    "tmp_x = pad(preproc_english_sentences_train, max_french_sequence_length_train)\n",
    "tmp_x = tmp_x.reshape((-1, preproc_french_sentences_train.shape[-2]))\n",
    "tmp_x.shape\n",
    "\n",
    "print('Final Model Loaded')"
   ]
  },
  {
   "cell_type": "code",
   "execution_count": 23,
   "metadata": {
    "scrolled": true
   },
   "outputs": [
    {
     "name": "stdout",
     "output_type": "stream",
     "text": [
      "_________________________________________________________________\n",
      "Layer (type)                 Output Shape              Param #   \n",
      "=================================================================\n",
      "embedding_8 (Embedding)      (None, 21, 21)            6300      \n",
      "_________________________________________________________________\n",
      "lstm_36 (LSTM)               (None, 21, 512)           1093632   \n",
      "_________________________________________________________________\n",
      "lstm_37 (LSTM)               (None, 21, 512)           2099200   \n",
      "_________________________________________________________________\n",
      "lstm_38 (LSTM)               (None, 21, 512)           2099200   \n",
      "_________________________________________________________________\n",
      "flatten_8 (Flatten)          (None, 10752)             0         \n",
      "_________________________________________________________________\n",
      "repeat_vector_8 (RepeatVecto (None, 21, 10752)         0         \n",
      "_________________________________________________________________\n",
      "lstm_39 (LSTM)               (None, 21, 512)           23070720  \n",
      "_________________________________________________________________\n",
      "lstm_40 (LSTM)               (None, 21, 512)           2099200   \n",
      "_________________________________________________________________\n",
      "bidirectional_8 (Bidirection (None, 21, 1024)          3148800   \n",
      "_________________________________________________________________\n",
      "time_distributed_7 (TimeDist (None, 21, 344)           352600    \n",
      "=================================================================\n",
      "Total params: 33,969,652\n",
      "Trainable params: 33,969,652\n",
      "Non-trainable params: 0\n",
      "_________________________________________________________________\n",
      "Train on 88230 samples, validate on 22058 samples\n",
      "Epoch 1/20\n",
      "88230/88230 [==============================] - 341s 4ms/step - loss: 2.6723 - acc: 0.4700 - val_loss: 1.9310 - val_acc: 0.5326\n",
      "Epoch 2/20\n",
      "88230/88230 [==============================] - 334s 4ms/step - loss: 1.7221 - acc: 0.5607 - val_loss: 1.5563 - val_acc: 0.5741\n",
      "Epoch 3/20\n",
      "88230/88230 [==============================] - 335s 4ms/step - loss: 1.4026 - acc: 0.6141 - val_loss: 1.2749 - val_acc: 0.6397\n",
      "Epoch 4/20\n",
      "88230/88230 [==============================] - 334s 4ms/step - loss: 1.2200 - acc: 0.6553 - val_loss: 1.2185 - val_acc: 0.6504\n",
      "Epoch 5/20\n",
      "88230/88230 [==============================] - 334s 4ms/step - loss: 1.0975 - acc: 0.6820 - val_loss: 1.0463 - val_acc: 0.6919\n",
      "Epoch 6/20\n",
      "88230/88230 [==============================] - 334s 4ms/step - loss: 1.0088 - acc: 0.6989 - val_loss: 0.9404 - val_acc: 0.7139\n",
      "Epoch 7/20\n",
      "88230/88230 [==============================] - 335s 4ms/step - loss: 0.9160 - acc: 0.7171 - val_loss: 0.8918 - val_acc: 0.7222\n",
      "Epoch 8/20\n",
      "88230/88230 [==============================] - 334s 4ms/step - loss: 0.8607 - acc: 0.7280 - val_loss: 0.8212 - val_acc: 0.7353\n",
      "Epoch 9/20\n",
      "88230/88230 [==============================] - 334s 4ms/step - loss: 0.7878 - acc: 0.7452 - val_loss: 0.7581 - val_acc: 0.7526\n",
      "Epoch 10/20\n",
      "88230/88230 [==============================] - 334s 4ms/step - loss: 0.7255 - acc: 0.7611 - val_loss: 0.7169 - val_acc: 0.7629\n",
      "Epoch 11/20\n",
      "88230/88230 [==============================] - 334s 4ms/step - loss: 0.6825 - acc: 0.7732 - val_loss: 0.6724 - val_acc: 0.7771\n",
      "Epoch 12/20\n",
      "88230/88230 [==============================] - 334s 4ms/step - loss: 0.6477 - acc: 0.7836 - val_loss: 0.6060 - val_acc: 0.7962\n",
      "Epoch 13/20\n",
      "88230/88230 [==============================] - 335s 4ms/step - loss: 0.5928 - acc: 0.8001 - val_loss: 0.5950 - val_acc: 0.7980\n",
      "Epoch 14/20\n",
      "88230/88230 [==============================] - 334s 4ms/step - loss: 0.5676 - acc: 0.8076 - val_loss: 0.5331 - val_acc: 0.8176\n",
      "Epoch 15/20\n",
      "88230/88230 [==============================] - 334s 4ms/step - loss: 0.5391 - acc: 0.8166 - val_loss: 0.5260 - val_acc: 0.8216\n",
      "Epoch 16/20\n",
      "88230/88230 [==============================] - 334s 4ms/step - loss: 0.5035 - acc: 0.8285 - val_loss: 0.4956 - val_acc: 0.8324\n",
      "Epoch 17/20\n",
      "88230/88230 [==============================] - 334s 4ms/step - loss: 0.4661 - acc: 0.8408 - val_loss: 0.4330 - val_acc: 0.8525\n",
      "Epoch 18/20\n",
      "88230/88230 [==============================] - 334s 4ms/step - loss: 0.4265 - acc: 0.8533 - val_loss: 0.4081 - val_acc: 0.8592\n",
      "Epoch 19/20\n",
      "88230/88230 [==============================] - 334s 4ms/step - loss: 0.3976 - acc: 0.8622 - val_loss: 0.3839 - val_acc: 0.8666\n",
      "Epoch 20/20\n",
      "88230/88230 [==============================] - 334s 4ms/step - loss: 0.3676 - acc: 0.8714 - val_loss: 0.3487 - val_acc: 0.8777\n",
      "l' inde est parfois gel habituellement en janvier mais il est jamais agréable à l' automne <PAD> <PAD> <PAD> <PAD> <PAD>\n"
     ]
    }
   ],
   "source": [
    "# Build the model\n",
    "model_final_split = model_final_split(\n",
    "    tmp_x.shape,\n",
    "    max_french_sequence_length_train,\n",
    "    english_vocab_size,\n",
    "    french_vocab_size)\n",
    "\n",
    "# TODO: Train the neural network\n",
    "model_final_split.fit(tmp_x, preproc_french_sentences_train, batch_size=1024, epochs=20, validation_split=0.2)\n",
    "\n",
    "# TODO: Print prediction(s)\n",
    "print(logits_to_text(model_final_split.predict(tmp_x[:1])[0], french_tokenizer_train))\n"
   ]
  },
  {
   "cell_type": "markdown",
   "metadata": {},
   "source": [
    "### Final Model Scoring"
   ]
  },
  {
   "cell_type": "code",
   "execution_count": 29,
   "metadata": {},
   "outputs": [
    {
     "name": "stdout",
     "output_type": "stream",
     "text": [
      "26260/26260 [==============================] - 113s 4ms/step\n",
      "Final model accuracy on test dataset: 28.78%\n"
     ]
    }
   ],
   "source": [
    "test_x = pad(preproc_english_sentences_test, max_french_sequence_length_test)\n",
    "test_x = test_x.reshape((-1, preproc_french_sentences_train.shape[-2]))\n",
    "\n",
    "preproc_french_sentences_test = preproc_french_sentences_test.reshape((-1, \n",
    "                                preproc_french_sentences_train.shape[-2], 1))\n",
    "\n",
    "model_final_split_score = model_final_split.evaluate(test_x, preproc_french_sentences_test, verbose=1)\n",
    "\n",
    "print(\"Final model accuracy on test dataset: {0:.2f}%\".format(model_final_split_score[1]*100))"
   ]
  },
  {
   "cell_type": "code",
   "execution_count": 30,
   "metadata": {},
   "outputs": [
    {
     "name": "stdout",
     "output_type": "stream",
     "text": [
      "Original English sentence: \n",
      " california is never hot during autumn , but it is never dry in march .\n",
      "\n",
      "Predicted sentece: \n",
      " inde est parfois pluvieux pamplemousse l' mois mais il belle jamais jamais chaud à l' mois <PAD> <PAD> <PAD> <PAD> <PAD>\n",
      "\n",
      "Original French sentence: \n",
      " californie est jamais chaud pendant l' automne , mais il est jamais sec en mars .\n"
     ]
    }
   ],
   "source": [
    "print(\"Original English sentence: \\n\", english_sentences_test[1])\n",
    "\n",
    "print(\"\\nPredicted sentece: \\n\", logits_to_text(model_final_split.predict(test_x)[0], french_tokenizer_test))\n",
    "\n",
    "print(\"\\nOriginal French sentence: \\n\", french_sentences_test[1])"
   ]
  },
  {
   "cell_type": "markdown",
   "metadata": {},
   "source": [
    "### Final Model w/Less Layers & Nodes"
   ]
  },
  {
   "cell_type": "code",
   "execution_count": 32,
   "metadata": {},
   "outputs": [
    {
     "name": "stdout",
     "output_type": "stream",
     "text": [
      "_________________________________________________________________\n",
      "Layer (type)                 Output Shape              Param #   \n",
      "=================================================================\n",
      "embedding_9 (Embedding)      (None, 15, 21)            6300      \n",
      "_________________________________________________________________\n",
      "lstm_41 (LSTM)               (None, 15, 128)           76800     \n",
      "_________________________________________________________________\n",
      "lstm_42 (LSTM)               (None, 15, 128)           131584    \n",
      "_________________________________________________________________\n",
      "flatten_9 (Flatten)          (None, 1920)              0         \n",
      "_________________________________________________________________\n",
      "repeat_vector_9 (RepeatVecto (None, 21, 1920)          0         \n",
      "_________________________________________________________________\n",
      "lstm_43 (LSTM)               (None, 21, 128)           1049088   \n",
      "_________________________________________________________________\n",
      "bidirectional_9 (Bidirection (None, 21, 1024)          1969152   \n",
      "_________________________________________________________________\n",
      "time_distributed_8 (TimeDist (None, 21, 344)           352600    \n",
      "=================================================================\n",
      "Total params: 3,585,524\n",
      "Trainable params: 3,585,524\n",
      "Non-trainable params: 0\n",
      "_________________________________________________________________\n",
      "Final Model Loaded\n"
     ]
    }
   ],
   "source": [
    "def model_final_3LSTM_split(input_shape, output_sequence_length, english_vocab_size, french_vocab_size):\n",
    "    \"\"\"\n",
    "    Build and train a model that incorporates embedding, encoder-decoder, and bidirectional RNN on x and y\n",
    "    :param input_shape: Tuple of input shape\n",
    "    :param output_sequence_length: Length of output sequence\n",
    "    :param english_vocab_size: Number of unique English words in the dataset\n",
    "    :param french_vocab_size: Number of unique French words in the dataset\n",
    "    :return: Keras model built, but not trained\n",
    "    \"\"\"\n",
    "    \n",
    "    model = Sequential()\n",
    "    model.add(Embedding(300, output_dim=output_sequence_length,\n",
    "                        input_length=input_shape[1:][0]))\n",
    "    model.add(LSTM(128, return_sequences=True,input_shape=input_shape))\n",
    "    model.add(LSTM(128, return_sequences=True, dropout=0.2, recurrent_dropout=0.2))          \n",
    "    model.add(Flatten())\n",
    "    model.add(RepeatVector(output_sequence_length))\n",
    "    model.add(LSTM(128, return_sequences=True, dropout=0.2, recurrent_dropout=0.2))\n",
    "    model.add(Bidirectional(GRU(512, return_sequences=True)))\n",
    "    model.add(TimeDistributed(Dense(french_vocab_size, activation='softmax')))\n",
    "\n",
    "    model.compile(loss=sparse_categorical_crossentropy, optimizer=Adam(lr=0.001),\n",
    "                  metrics=['acc'])\n",
    "    model.summary()\n",
    "    return model\n",
    "\n",
    "\n",
    "tests.test_model_final(model_final_3LSTM_split)\n",
    "\n",
    "#Reshape the input\n",
    "tmp_x = pad(preproc_english_sentences_train, max_french_sequence_length_train)\n",
    "tmp_x = tmp_x.reshape((-1, preproc_french_sentences_train.shape[-2]))\n",
    "tmp_x.shape\n",
    "\n",
    "print('Final Model Loaded')"
   ]
  },
  {
   "cell_type": "code",
   "execution_count": 34,
   "metadata": {},
   "outputs": [
    {
     "name": "stdout",
     "output_type": "stream",
     "text": [
      "_________________________________________________________________\n",
      "Layer (type)                 Output Shape              Param #   \n",
      "=================================================================\n",
      "embedding_10 (Embedding)     (None, 21, 21)            6300      \n",
      "_________________________________________________________________\n",
      "lstm_44 (LSTM)               (None, 21, 128)           76800     \n",
      "_________________________________________________________________\n",
      "lstm_45 (LSTM)               (None, 21, 128)           131584    \n",
      "_________________________________________________________________\n",
      "flatten_10 (Flatten)         (None, 2688)              0         \n",
      "_________________________________________________________________\n",
      "repeat_vector_10 (RepeatVect (None, 21, 2688)          0         \n",
      "_________________________________________________________________\n",
      "lstm_46 (LSTM)               (None, 21, 128)           1442304   \n",
      "_________________________________________________________________\n",
      "bidirectional_10 (Bidirectio (None, 21, 1024)          1969152   \n",
      "_________________________________________________________________\n",
      "time_distributed_9 (TimeDist (None, 21, 344)           352600    \n",
      "=================================================================\n",
      "Total params: 3,978,740\n",
      "Trainable params: 3,978,740\n",
      "Non-trainable params: 0\n",
      "_________________________________________________________________\n",
      "Train on 88230 samples, validate on 22058 samples\n",
      "Epoch 1/20\n",
      "88230/88230 [==============================] - 65s 733us/step - loss: 2.7760 - acc: 0.4621 - val_loss: 2.2332 - val_acc: 0.4997\n",
      "Epoch 2/20\n",
      "88230/88230 [==============================] - 61s 696us/step - loss: 1.9244 - acc: 0.5278 - val_loss: 1.6307 - val_acc: 0.5666\n",
      "Epoch 3/20\n",
      "88230/88230 [==============================] - 61s 696us/step - loss: 1.4879 - acc: 0.5942 - val_loss: 1.3895 - val_acc: 0.6206\n",
      "Epoch 4/20\n",
      "88230/88230 [==============================] - 61s 695us/step - loss: 1.3106 - acc: 0.6338 - val_loss: 1.2331 - val_acc: 0.6499\n",
      "Epoch 5/20\n",
      "88230/88230 [==============================] - 61s 695us/step - loss: 1.1876 - acc: 0.6615 - val_loss: 1.1423 - val_acc: 0.6733\n",
      "Epoch 6/20\n",
      "88230/88230 [==============================] - 61s 695us/step - loss: 1.1203 - acc: 0.6753 - val_loss: 1.0846 - val_acc: 0.6832\n",
      "Epoch 7/20\n",
      "88230/88230 [==============================] - 61s 695us/step - loss: 1.0531 - acc: 0.6898 - val_loss: 1.0532 - val_acc: 0.6893\n",
      "Epoch 8/20\n",
      "88230/88230 [==============================] - 61s 696us/step - loss: 1.0020 - acc: 0.7005 - val_loss: 0.9684 - val_acc: 0.7073\n",
      "Epoch 9/20\n",
      "88230/88230 [==============================] - 61s 693us/step - loss: 0.9532 - acc: 0.7108 - val_loss: 0.9295 - val_acc: 0.7145\n",
      "Epoch 10/20\n",
      "88230/88230 [==============================] - 61s 695us/step - loss: 0.9113 - acc: 0.7188 - val_loss: 0.8838 - val_acc: 0.7208\n",
      "Epoch 11/20\n",
      "88230/88230 [==============================] - 61s 696us/step - loss: 0.8621 - acc: 0.7302 - val_loss: 0.8258 - val_acc: 0.7392\n",
      "Epoch 12/20\n",
      "88230/88230 [==============================] - 61s 696us/step - loss: 0.8188 - acc: 0.7427 - val_loss: 0.7902 - val_acc: 0.7513\n",
      "Epoch 13/20\n",
      "88230/88230 [==============================] - 61s 694us/step - loss: 0.7760 - acc: 0.7555 - val_loss: 0.7469 - val_acc: 0.7641\n",
      "Epoch 14/20\n",
      "88230/88230 [==============================] - 61s 695us/step - loss: 0.7344 - acc: 0.7671 - val_loss: 0.7071 - val_acc: 0.7734\n",
      "Epoch 15/20\n",
      "88230/88230 [==============================] - 61s 693us/step - loss: 0.6908 - acc: 0.7790 - val_loss: 0.6964 - val_acc: 0.7769\n",
      "Epoch 16/20\n",
      "88230/88230 [==============================] - 61s 695us/step - loss: 0.6550 - acc: 0.7879 - val_loss: 0.6207 - val_acc: 0.7972\n",
      "Epoch 17/20\n",
      "88230/88230 [==============================] - 61s 695us/step - loss: 0.6151 - acc: 0.7986 - val_loss: 0.5782 - val_acc: 0.8106\n",
      "Epoch 18/20\n",
      "88230/88230 [==============================] - 61s 696us/step - loss: 0.5826 - acc: 0.8070 - val_loss: 0.5457 - val_acc: 0.8189\n",
      "Epoch 19/20\n",
      "88230/88230 [==============================] - 61s 695us/step - loss: 0.5467 - acc: 0.8171 - val_loss: 0.5403 - val_acc: 0.8194\n",
      "Epoch 20/20\n",
      "88230/88230 [==============================] - 61s 696us/step - loss: 0.5162 - acc: 0.8260 - val_loss: 0.4951 - val_acc: 0.8309\n",
      "l' inde est le le habituellement en juillet mais il est jamais agréable à l' automne <PAD> <PAD> <PAD> <PAD> <PAD>\n"
     ]
    }
   ],
   "source": [
    "# Build the model\n",
    "model_final_3LSTM_split = model_final_3LSTM_split(\n",
    "    tmp_x.shape,\n",
    "    max_french_sequence_length_train,\n",
    "    english_vocab_size,\n",
    "    french_vocab_size)\n",
    "\n",
    "# TODO: Train the neural network\n",
    "model_final_3LSTM_split.fit(tmp_x, preproc_french_sentences_train, batch_size=1024, epochs=20, validation_split=0.2)\n",
    "\n",
    "# TODO: Print prediction(s)\n",
    "print(logits_to_text(model_final_3LSTM_split.predict(tmp_x[:1])[0], french_tokenizer_train))\n"
   ]
  },
  {
   "cell_type": "code",
   "execution_count": 38,
   "metadata": {},
   "outputs": [
    {
     "name": "stdout",
     "output_type": "stream",
     "text": [
      "26260/26260 [==============================] - 48s 2ms/step\n",
      "Final model w/3 LSTM layers' accuracy on test dataset: 27.42%\n"
     ]
    }
   ],
   "source": [
    "test_x = pad(preproc_english_sentences_test, max_french_sequence_length_test)\n",
    "test_x = test_x.reshape((-1, preproc_french_sentences_train.shape[-2]))\n",
    "\n",
    "preproc_french_sentences_test = preproc_french_sentences_test.reshape((-1, \n",
    "                                preproc_french_sentences_train.shape[-2], 1))\n",
    "\n",
    "model_final_3LSTM_score = model_final_3LSTM_split.evaluate(test_x, preproc_french_sentences_test, verbose=1)\n",
    "\n",
    "print(\"Final model w/3 LSTM layers' accuracy on test dataset: {0:.2f}%\".format(model_final_3LSTM_score[1]*100))"
   ]
  },
  {
   "cell_type": "code",
   "execution_count": 39,
   "metadata": {},
   "outputs": [
    {
     "name": "stdout",
     "output_type": "stream",
     "text": [
      "Original English sentence: \n",
      " california is never hot during autumn , but it is never dry in march .\n",
      "\n",
      "Predicted sentece: \n",
      " inde est parfois son pamplemousse l' printemps mais il est jamais chaud chaud <PAD> <PAD> <PAD> <PAD> <PAD> <PAD> <PAD> <PAD>\n",
      "\n",
      "Original French sentence: \n",
      " californie est jamais chaud pendant l' automne , mais il est jamais sec en mars .\n"
     ]
    }
   ],
   "source": [
    "print(\"Original English sentence: \\n\", english_sentences_test[1])\n",
    "\n",
    "print(\"\\nPredicted sentece: \\n\", logits_to_text(model_final_3LSTM_split.predict(test_x)[0], french_tokenizer_test))\n",
    "\n",
    "print(\"\\nOriginal French sentence: \\n\", french_sentences_test[1])"
   ]
  },
  {
  
}
